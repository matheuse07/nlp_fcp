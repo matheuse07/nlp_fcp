{
 "cells": [
  {
   "cell_type": "markdown",
   "metadata": {
    "pycharm": {
     "name": "#%% md\n"
    }
   },
   "source": [
    "# Reading files "
   ]
  },
  {
   "cell_type": "code",
   "execution_count": 1,
   "metadata": {
    "pycharm": {
     "name": "#%%\n"
    }
   },
   "outputs": [],
   "source": [
    "# import libraries\n",
    "import pandas as pd \n",
    "import numpy as np \n",
    "\n",
    "import seaborn as sns\n",
    "import matplotlib.pyplot as plt\n",
    "\n",
    "\n",
    "import warnings\n",
    "warnings.filterwarnings(\"ignore\", category=Warning, )"
   ]
  },
  {
   "cell_type": "code",
   "execution_count": 2,
   "metadata": {
    "pycharm": {
     "name": "#%%\n"
    }
   },
   "outputs": [
    {
     "data": {
      "text/html": [
       "<div>\n",
       "<style scoped>\n",
       "    .dataframe tbody tr th:only-of-type {\n",
       "        vertical-align: middle;\n",
       "    }\n",
       "\n",
       "    .dataframe tbody tr th {\n",
       "        vertical-align: top;\n",
       "    }\n",
       "\n",
       "    .dataframe thead th {\n",
       "        text-align: right;\n",
       "    }\n",
       "</style>\n",
       "<table border=\"1\" class=\"dataframe\">\n",
       "  <thead>\n",
       "    <tr style=\"text-align: right;\">\n",
       "      <th></th>\n",
       "      <th>helpfulness_cat</th>\n",
       "      <th>imdb_user_review</th>\n",
       "    </tr>\n",
       "  </thead>\n",
       "  <tbody>\n",
       "    <tr>\n",
       "      <th>0</th>\n",
       "      <td>1.0</td>\n",
       "      <td>It is hard to find such delightful and adorabl...</td>\n",
       "    </tr>\n",
       "    <tr>\n",
       "      <th>1</th>\n",
       "      <td>1.0</td>\n",
       "      <td>They don't make films like this faded, hauntin...</td>\n",
       "    </tr>\n",
       "    <tr>\n",
       "      <th>2</th>\n",
       "      <td>1.0</td>\n",
       "      <td>I first viewed this movie in 1924 at age 6 yrs...</td>\n",
       "    </tr>\n",
       "    <tr>\n",
       "      <th>3</th>\n",
       "      <td>1.0</td>\n",
       "      <td>I doubt that I'd ever seen anything resembling...</td>\n",
       "    </tr>\n",
       "    <tr>\n",
       "      <th>4</th>\n",
       "      <td>1.0</td>\n",
       "      <td>I was shocked to find myself riveted to this m...</td>\n",
       "    </tr>\n",
       "  </tbody>\n",
       "</table>\n",
       "</div>"
      ],
      "text/plain": [
       "   helpfulness_cat                                   imdb_user_review\n",
       "0              1.0  It is hard to find such delightful and adorabl...\n",
       "1              1.0  They don't make films like this faded, hauntin...\n",
       "2              1.0  I first viewed this movie in 1924 at age 6 yrs...\n",
       "3              1.0  I doubt that I'd ever seen anything resembling...\n",
       "4              1.0  I was shocked to find myself riveted to this m..."
      ]
     },
     "execution_count": 2,
     "metadata": {},
     "output_type": "execute_result"
    }
   ],
   "source": [
    "# create train dataframe \n",
    "train_df = pd.read_csv('/Users/matheusmaciel/CASS/MSc 2021-22 /Term 3/NLP/nlp_fcp/data/train.csv')\n",
    "\n",
    "# create test dataframe\n",
    "test_df = pd.read_csv('/Users/matheusmaciel/CASS/MSc 2021-22 /Term 3/NLP/nlp_fcp/data/test.csv')\n",
    "\n",
    "# view train dataframe\n",
    "train_df.head()"
   ]
  },
  {
   "cell_type": "markdown",
   "metadata": {
    "pycharm": {
     "name": "#%% md\n"
    }
   },
   "source": [
    "# Exploratory data analysis"
   ]
  },
  {
   "cell_type": "code",
   "execution_count": 3,
   "metadata": {
    "pycharm": {
     "name": "#%%\n"
    }
   },
   "outputs": [
    {
     "data": {
      "text/html": [
       "<div>\n",
       "<style scoped>\n",
       "    .dataframe tbody tr th:only-of-type {\n",
       "        vertical-align: middle;\n",
       "    }\n",
       "\n",
       "    .dataframe tbody tr th {\n",
       "        vertical-align: top;\n",
       "    }\n",
       "\n",
       "    .dataframe thead th {\n",
       "        text-align: right;\n",
       "    }\n",
       "</style>\n",
       "<table border=\"1\" class=\"dataframe\">\n",
       "  <thead>\n",
       "    <tr style=\"text-align: right;\">\n",
       "      <th></th>\n",
       "      <th>helpfulness_cat</th>\n",
       "    </tr>\n",
       "  </thead>\n",
       "  <tbody>\n",
       "    <tr>\n",
       "      <th>count</th>\n",
       "      <td>10755.000000</td>\n",
       "    </tr>\n",
       "    <tr>\n",
       "      <th>mean</th>\n",
       "      <td>0.763738</td>\n",
       "    </tr>\n",
       "    <tr>\n",
       "      <th>std</th>\n",
       "      <td>0.424805</td>\n",
       "    </tr>\n",
       "    <tr>\n",
       "      <th>min</th>\n",
       "      <td>0.000000</td>\n",
       "    </tr>\n",
       "    <tr>\n",
       "      <th>25%</th>\n",
       "      <td>1.000000</td>\n",
       "    </tr>\n",
       "    <tr>\n",
       "      <th>50%</th>\n",
       "      <td>1.000000</td>\n",
       "    </tr>\n",
       "    <tr>\n",
       "      <th>75%</th>\n",
       "      <td>1.000000</td>\n",
       "    </tr>\n",
       "    <tr>\n",
       "      <th>max</th>\n",
       "      <td>1.000000</td>\n",
       "    </tr>\n",
       "  </tbody>\n",
       "</table>\n",
       "</div>"
      ],
      "text/plain": [
       "       helpfulness_cat\n",
       "count     10755.000000\n",
       "mean          0.763738\n",
       "std           0.424805\n",
       "min           0.000000\n",
       "25%           1.000000\n",
       "50%           1.000000\n",
       "75%           1.000000\n",
       "max           1.000000"
      ]
     },
     "execution_count": 3,
     "metadata": {},
     "output_type": "execute_result"
    }
   ],
   "source": [
    "# describe train data\n",
    "train_df.describe()"
   ]
  },
  {
   "cell_type": "code",
   "execution_count": 4,
   "metadata": {
    "pycharm": {
     "name": "#%%\n"
    }
   },
   "outputs": [
    {
     "name": "stdout",
     "output_type": "stream",
     "text": [
      "1.0    8214\n",
      "0.0    2541\n",
      "Name: helpfulness_cat, dtype: int64\n"
     ]
    },
    {
     "data": {
      "text/plain": [
       "<AxesSubplot:xlabel='helpfulness_cat', ylabel='count'>"
      ]
     },
     "execution_count": 4,
     "metadata": {},
     "output_type": "execute_result"
    },
    {
     "data": {
      "image/png": "[encoded data removed]",
      "text/plain": [
       "<Figure size 432x288 with 1 Axes>"
      ]
     },
     "metadata": {},
     "output_type": "display_data"
    }
   ],
   "source": [
    "# get distribution of 'helpfulness_cat' column \n",
    "print(train_df['helpfulness_cat'].value_counts())  # 1 helpful review, 0 unhelpful \n",
    "\n",
    "#plot \n",
    "sns.set(style = \"darkgrid\" , font_scale = 1.2)\n",
    "sns.countplot(train_df.helpfulness_cat)"
   ]
  },
  {
   "cell_type": "markdown",
   "metadata": {
    "pycharm": {
     "name": "#%% md\n"
    }
   },
   "source": [
    "Most reviews are considered helpful "
   ]
  },
  {
   "cell_type": "code",
   "execution_count": 5,
   "metadata": {
    "pycharm": {
     "name": "#%%\n"
    }
   },
   "outputs": [
    {
     "data": {
      "text/plain": [
       "helpfulness_cat\n",
       "0.0     749.332153\n",
       "1.0    1066.435476\n",
       "Name: imdb_user_review, dtype: float64"
      ]
     },
     "execution_count": 5,
     "metadata": {},
     "output_type": "execute_result"
    }
   ],
   "source": [
    "# get average length of text in 'imdb_user_review' column depending on if 'helpfulness_cat' == 1.0 or 0.0\n",
    "train_df.groupby('helpfulness_cat').imdb_user_review.apply(lambda x: x.str.len().mean())"
   ]
  },
  {
   "cell_type": "code",
   "execution_count": 6,
   "metadata": {
    "pycharm": {
     "name": "#%%\n"
    }
   },
   "outputs": [
    {
     "data": {
      "image/png": "[encoded data removed]",
      "text/plain": [
       "<Figure size 864x576 with 2 Axes>"
      ]
     },
     "metadata": {},
     "output_type": "display_data"
    }
   ],
   "source": [
    "fig,(ax1,ax2)=plt.subplots(1,2,figsize=(12,8))\n",
    "text_len=train_df[train_df['helpfulness_cat']==1]['imdb_user_review'].str.len()\n",
    "ax1.hist(text_len,color='red')\n",
    "ax1.set_title('Text with Helpful Reviews')\n",
    "text_len=train_df[train_df['helpfulness_cat']==0]['imdb_user_review'].str.len()\n",
    "ax2.hist(text_len,color='green')\n",
    "ax2.set_title('Text with Unhelpful Reviews')\n",
    "fig.suptitle('Characters in texts')\n",
    "plt.show()"
   ]
  },
  {
   "cell_type": "code",
   "execution_count": 7,
   "metadata": {
    "pycharm": {
     "name": "#%%\n"
    }
   },
   "outputs": [
    {
     "data": {
      "image/png": "[encoded data removed]",
      "text/plain": [
       "<Figure size 864x576 with 2 Axes>"
      ]
     },
     "metadata": {},
     "output_type": "display_data"
    }
   ],
   "source": [
    "# plotting number of words in text\n",
    "fig,(ax1,ax2)=plt.subplots(1,2,figsize=(12,8))\n",
    "text_len=train_df[train_df['helpfulness_cat']==1]['imdb_user_review'].str.split().map(lambda x: len(x))\n",
    "ax1.hist(text_len,color='red')\n",
    "ax1.set_title('Text with Helpful imdb_user_reviews')\n",
    "text_len=train_df[train_df['helpfulness_cat']==0]['imdb_user_review'].str.split().map(lambda x: len(x))\n",
    "ax2.hist(text_len,color='green')\n",
    "ax2.set_title('Text with Unhelpful imdb_user_reviews')\n",
    "fig.suptitle('Words in texts')\n",
    "plt.show()"
   ]
  },
  {
   "cell_type": "markdown",
   "metadata": {
    "pycharm": {
     "name": "#%% md\n"
    }
   },
   "source": [
    "On average, helpful reviews are longer than unhelpful ones "
   ]
  },
  {
   "cell_type": "markdown",
   "metadata": {
    "pycharm": {
     "name": "#%% md\n"
    }
   },
   "source": [
    "# Data Pre-processing for NLP"
   ]
  },
  {
   "cell_type": "markdown",
   "metadata": {
    "pycharm": {
     "name": "#%% md\n"
    }
   },
   "source": [
    "Tokenize, lemmatize, etc\n"
   ]
  },
  {
   "cell_type": "code",
   "execution_count": 8,
   "metadata": {
    "pycharm": {
     "name": "#%%\n"
    }
   },
   "outputs": [],
   "source": [
    "# import libraries\n",
    "# nlp text pre-processing\n",
    "import nltk\n",
    "from nltk.tokenize import sent_tokenize, word_tokenize\n",
    "import re\n",
    "import string\n",
    "from nltk.corpus import stopwords\n",
    "from nltk.stem import WordNetLemmatizer\n",
    "\n",
    "stopwords = set(stopwords.words('english'))\n",
    "lemmatizer = WordNetLemmatizer()"
   ]
  },
  {
   "cell_type": "code",
   "execution_count": 9,
   "metadata": {
    "pycharm": {
     "name": "#%%\n"
    }
   },
   "outputs": [
    {
     "data": {
      "text/html": [
       "<div>\n",
       "<style scoped>\n",
       "    .dataframe tbody tr th:only-of-type {\n",
       "        vertical-align: middle;\n",
       "    }\n",
       "\n",
       "    .dataframe tbody tr th {\n",
       "        vertical-align: top;\n",
       "    }\n",
       "\n",
       "    .dataframe thead th {\n",
       "        text-align: right;\n",
       "    }\n",
       "</style>\n",
       "<table border=\"1\" class=\"dataframe\">\n",
       "  <thead>\n",
       "    <tr style=\"text-align: right;\">\n",
       "      <th></th>\n",
       "      <th>helpfulness_cat</th>\n",
       "      <th>imdb_user_review</th>\n",
       "    </tr>\n",
       "  </thead>\n",
       "  <tbody>\n",
       "    <tr>\n",
       "      <th>0</th>\n",
       "      <td>1.0</td>\n",
       "      <td>hard find delightful adorable movie day kid si...</td>\n",
       "    </tr>\n",
       "    <tr>\n",
       "      <th>1</th>\n",
       "      <td>1.0</td>\n",
       "      <td>make film like faded haunting masterpiece sile...</td>\n",
       "    </tr>\n",
       "    <tr>\n",
       "      <th>2</th>\n",
       "      <td>1.0</td>\n",
       "      <td>first viewed movie age yr probably first movie...</td>\n",
       "    </tr>\n",
       "    <tr>\n",
       "      <th>3</th>\n",
       "      <td>1.0</td>\n",
       "      <td>doubt ever seen anything resembling complete v...</td>\n",
       "    </tr>\n",
       "    <tr>\n",
       "      <th>4</th>\n",
       "      <td>1.0</td>\n",
       "      <td>shocked find riveted movie without doubt best ...</td>\n",
       "    </tr>\n",
       "  </tbody>\n",
       "</table>\n",
       "</div>"
      ],
      "text/plain": [
       "   helpfulness_cat                                   imdb_user_review\n",
       "0              1.0  hard find delightful adorable movie day kid si...\n",
       "1              1.0  make film like faded haunting masterpiece sile...\n",
       "2              1.0  first viewed movie age yr probably first movie...\n",
       "3              1.0  doubt ever seen anything resembling complete v...\n",
       "4              1.0  shocked find riveted movie without doubt best ..."
      ]
     },
     "execution_count": 9,
     "metadata": {},
     "output_type": "execute_result"
    }
   ],
   "source": [
    "# define function for pre-processing\n",
    "def pre_process(text):\n",
    "    # lowercase\n",
    "    text = text.lower()\n",
    "    # remove punctuation and special characters\n",
    "    text = re.sub('[^a-zA-Z]', ' ', text)\n",
    "    # # remove punctuation\n",
    "    # text = re.sub('\\[.*?\\]', '', text)\n",
    "    # remove numbers\n",
    "    text = re.sub(r'\\d+', '', text)\n",
    "    # remove stopwords\n",
    "    text = ' '.join([word for word in text.split() if word not in stopwords])\n",
    "    # lemmatize\n",
    "    text = ' '.join([lemmatizer.lemmatize(word) for word in text.split()])\n",
    "\n",
    "    return text\n",
    "\n",
    "\n",
    "# apply pre-processing to train data\n",
    "train_df['imdb_user_review'] = train_df['imdb_user_review'].apply(pre_process)\n",
    "\n",
    "# view train dataframe\n",
    "train_df.head()"
   ]
  },
  {
   "cell_type": "markdown",
   "metadata": {
    "pycharm": {
     "name": "#%% md\n"
    }
   },
   "source": [
    "# Modelling - Vectorization"
   ]
  },
  {
   "cell_type": "code",
   "execution_count": 10,
   "metadata": {
    "pycharm": {
     "name": "#%%\n"
    }
   },
   "outputs": [],
   "source": [
    "# train and test data\n",
    "y = train_df.helpfulness_cat\n",
    "X = train_df.imdb_user_review\n",
    "\n",
    "# train test split\n",
    "from sklearn.model_selection import train_test_split\n",
    "X_train, X_test, y_train, y_test = train_test_split(X, y, test_size=0.2, random_state=0)"
   ]
  },
  {
   "cell_type": "markdown",
   "metadata": {
    "collapsed": false,
    "pycharm": {
     "name": "#%% md\n"
    }
   },
   "source": [
    "## Tf-idf"
   ]
  },
  {
   "cell_type": "code",
   "execution_count": 11,
   "metadata": {
    "pycharm": {
     "name": "#%%\n"
    }
   },
   "outputs": [],
   "source": [
    "# applying tf-idf to train data\n",
    "from sklearn.feature_extraction.text import TfidfVectorizer\n",
    "tfidf = TfidfVectorizer(ngram_range=(1,2))\n",
    "X_train_tfidf = tfidf.fit_transform(X_train)\n",
    "X_test_tfidf = tfidf.transform(X_test)"
   ]
  },
  {
   "cell_type": "markdown",
   "metadata": {},
   "source": [
    "## Classifiers"
   ]
  },
  {
   "cell_type": "code",
   "execution_count": 12,
   "metadata": {},
   "outputs": [],
   "source": [
    "# logistic regression\n",
    "from sklearn.linear_model import LogisticRegression\n",
    "logreg = LogisticRegression()\n",
    "\n",
    "# decision tree\n",
    "from sklearn.tree import DecisionTreeClassifier\n",
    "dec_tree = DecisionTreeClassifier()\n",
    "\n",
    "# naive bayes\n",
    "from sklearn.naive_bayes import MultinomialNB\n",
    "naive_bayes = MultinomialNB()"
   ]
  },
  {
   "cell_type": "code",
   "execution_count": 13,
   "metadata": {
    "collapsed": false,
    "pycharm": {
     "name": "#%%\n"
    }
   },
   "outputs": [],
   "source": [
    "from sklearn.metrics import classification_report\n",
    "from sklearn.metrics import confusion_matrix\n",
    "from sklearn import model_selection\n",
    "from sklearn.metrics import accuracy_score\n",
    "from sklearn.metrics import f1_score"
   ]
  },
  {
   "cell_type": "code",
   "execution_count": 14,
   "metadata": {
    "collapsed": false,
    "pycharm": {
     "name": "#%%\n"
    }
   },
   "outputs": [
    {
     "name": "stdout",
     "output_type": "stream",
     "text": [
      "Logistic Regression: 0.768131 (0.011239)\n",
      "Decision Tree: 0.706187 (0.013203)\n",
      "Naive Bayes: 0.765458 (0.012133)\n"
     ]
    }
   ],
   "source": [
    "# evaluating models\n",
    "models = []\n",
    "models.append(('Logistic Regression', logreg))\n",
    "models.append(('Decision Tree', dec_tree))\n",
    "models.append(('Naive Bayes', naive_bayes))\n",
    "\n",
    "# cross validation\n",
    "seed = 5\n",
    "\n",
    "# evaluate each model in turn\n",
    "results = []\n",
    "names = []\n",
    "scoring = 'accuracy'\n",
    "for name, model in models:\n",
    "    kfold = model_selection.KFold(n_splits=10)\n",
    "    cv_results = model_selection.cross_val_score(model, X_train_tfidf, y_train, cv=kfold, scoring=scoring)\n",
    "    results.append(cv_results)\n",
    "    names.append(name)\n",
    "    msg = \"%s: %f (%f)\" % (name, cv_results.mean(), cv_results.std())\n",
    "    print(msg)"
   ]
  },
  {
   "cell_type": "markdown",
   "metadata": {
    "collapsed": false,
    "pycharm": {
     "name": "#%% md\n"
    }
   },
   "source": [
    "# Modelling - BERT"
   ]
  },
  {
   "cell_type": "code",
   "execution_count": 15,
   "metadata": {
    "collapsed": false,
    "pycharm": {
     "name": "#%%\n"
    }
   },
   "outputs": [],
   "source": [
    "import tensorflow as tf\n",
    "from tensorflow.keras.preprocessing.text import Tokenizer\n",
    "from tensorflow.keras.preprocessing.sequence import pad_sequences\n",
    "from tensorflow.keras.callbacks import ModelCheckpoint\n",
    "from tensorflow.keras.layers import Dense,Input, Embedding,LSTM,Dropout,Conv1D, MaxPooling1D, GlobalMaxPooling1D,Dropout,Bidirectional,Flatten,BatchNormalization\n",
    "from tensorflow.keras.callbacks import EarlyStopping\n",
    "from tensorflow.keras.models import Model\n",
    "from tensorflow.keras.optimizers import Adam\n",
    "from tensorflow.keras.utils import plot_model\n",
    "import transformers\n",
    "import tokenizers"
   ]
  },
  {
   "cell_type": "code",
   "execution_count": 16,
   "metadata": {},
   "outputs": [],
   "source": [
    "# tokenize the data\n",
    "tokenizer = Tokenizer(num_words=20000)\n",
    "tokenizer.fit_on_texts(train_df['imdb_user_review'])"
   ]
  },
  {
   "cell_type": "code",
   "execution_count": 17,
   "metadata": {},
   "outputs": [
    {
     "data": {
      "text/plain": [
       "0.9384472338447234"
      ]
     },
     "execution_count": 17,
     "metadata": {},
     "output_type": "execute_result"
    }
   ],
   "source": [
    "X_train_tokens = tokenizer.texts_to_sequences(X_train)\n",
    "X_test_tokens = tokenizer.texts_to_sequences(X_test)\n",
    "\n",
    "#Then we take the word count of each of our sentences in our data and create a list.\n",
    "num_tokens = [len(tokens) for tokens in X_train_tokens + X_test_tokens]\n",
    "num_tokens = np.array(num_tokens)\n",
    "\n",
    "#Here, when setting the number of tokens, a number is determined by taking into account the variability around the average.\n",
    "max_tokens = np.mean(num_tokens) + 2 * np.std(num_tokens)\n",
    "max_tokens = int(max_tokens)\n",
    "\n",
    "#It is checked what percentage of the data this determined number covers.\n",
    "np.sum(num_tokens < max_tokens) / len(num_tokens)"
   ]
  },
  {
   "cell_type": "code",
   "execution_count": 18,
   "metadata": {},
   "outputs": [
    {
     "data": {
      "text/plain": [
       "(8604, 292)"
      ]
     },
     "execution_count": 18,
     "metadata": {},
     "output_type": "execute_result"
    }
   ],
   "source": [
    "#data is adjusted according to the number of tokens specified\n",
    "X_train_pad = pad_sequences(X_train_tokens, maxlen=max_tokens)\n",
    "X_test_pad = pad_sequences(X_test_tokens, maxlen=max_tokens)\n",
    "\n",
    "X_train_pad.shape"
   ]
  },
  {
   "cell_type": "code",
   "execution_count": 19,
   "metadata": {},
   "outputs": [],
   "source": [
    "# We write a function to revert the sentences that we have made int\n",
    "idx = tokenizer.word_index\n",
    "inverse_map = dict(zip(idx.values(), idx.keys()))\n",
    "\n",
    "def return_to_sentence(tokens):\n",
    "    words = [inverse_map[token] for token in tokens if token!=0]\n",
    "    text = ' '.join(words)\n",
    "    return text"
   ]
  },
  {
   "cell_type": "code",
   "execution_count": 20,
   "metadata": {},
   "outputs": [],
   "source": [
    "#splitting the train set into train and validation\n",
    "X_train,X_val,y_train,y_val=train_test_split(X_train,y_train,test_size=0.2,random_state=10)"
   ]
  },
  {
   "cell_type": "code",
   "execution_count": 21,
   "metadata": {},
   "outputs": [
    {
     "name": "stdout",
     "output_type": "stream",
     "text": [
      "Vocabulary of the dataset is :  32772\n"
     ]
    }
   ],
   "source": [
    "#set up the tokenizer\n",
    "MAX_VOCAB_SIZE = 10000\n",
    "tk = Tokenizer(num_words = MAX_VOCAB_SIZE,oov_token=\"<oov>\")\n",
    "tk.fit_on_texts(X_train)\n",
    "word_index = tk.word_index\n",
    "#print(word_index)\n",
    "V = len(word_index)\n",
    "print(\"Vocabulary of the dataset is : \",V)"
   ]
  },
  {
   "cell_type": "code",
   "execution_count": 22,
   "metadata": {},
   "outputs": [],
   "source": [
    "##create sequences of reviews\n",
    "seq_train = tk.texts_to_sequences(X_train)\n",
    "seq_test =  tk.texts_to_sequences(X_test)"
   ]
  },
  {
   "cell_type": "code",
   "execution_count": 23,
   "metadata": {},
   "outputs": [
    {
     "name": "stdout",
     "output_type": "stream",
     "text": [
      "Maximum length of sequence in the list: 1901\n"
     ]
    }
   ],
   "source": [
    "#choice of maximum length of sequences\n",
    "seq_len_list = [len(i) for i in seq_train + seq_test]\n",
    "\n",
    "#if we take the direct maximum then\n",
    "max_len=max(seq_len_list)\n",
    "print('Maximum length of sequence in the list: {}'.format(max_len))\n"
   ]
  },
  {
   "cell_type": "code",
   "execution_count": 24,
   "metadata": {},
   "outputs": [
    {
     "name": "stdout",
     "output_type": "stream",
     "text": [
      "Maximum length of the sequence when considering data only two standard deviations from average: 299\n"
     ]
    }
   ],
   "source": [
    "# when setting the maximum length of sequence, variability around the average is used.\n",
    "max_seq_len = np.mean(seq_len_list) + 2 * np.std(seq_len_list)\n",
    "max_seq_len = int(max_seq_len)\n",
    "print('Maximum length of the sequence when considering data only two standard deviations from average: {}'.format(max_seq_len))"
   ]
  },
  {
   "cell_type": "code",
   "execution_count": 25,
   "metadata": {},
   "outputs": [],
   "source": [
    "tokenizer = transformers.AutoTokenizer.from_pretrained('distilbert-base-uncased')\n"
   ]
  },
  {
   "cell_type": "code",
   "execution_count": 26,
   "metadata": {},
   "outputs": [],
   "source": [
    "#pass our texts to the tokenizer. \n",
    "Xtrain_enc = tokenizer(X_train.tolist(), max_length=max_seq_len, \n",
    "                         truncation=True, padding='max_length', \n",
    "                         add_special_tokens=True, return_tensors='np') #return numpy object\n",
    "Xval_enc = tokenizer(X_val.tolist(), max_length=max_seq_len, \n",
    "                         truncation=True, padding='max_length', \n",
    "                         add_special_tokens=True, return_tensors='np') #return numpy object\n",
    "Xtest_enc = tokenizer(X_test.tolist(), max_length=max_seq_len, \n",
    "                         truncation=True, padding='max_length', \n",
    "                         add_special_tokens=True, return_tensors='np') #return numpy object"
   ]
  },
  {
   "cell_type": "code",
   "execution_count": 27,
   "metadata": {},
   "outputs": [
    {
     "name": "stdout",
     "output_type": "stream",
     "text": [
      "Metal device set to: Apple M1 Pro\n",
      "\n",
      "systemMemory: 16.00 GB\n",
      "maxCacheSize: 5.33 GB\n",
      "\n"
     ]
    },
    {
     "name": "stderr",
     "output_type": "stream",
     "text": [
      "2022-07-19 21:46:10.753513: I tensorflow/core/common_runtime/pluggable_device/pluggable_device_factory.cc:305] Could not identify NUMA node of platform GPU ID 0, defaulting to 0. Your kernel may not have been built with NUMA support.\n",
      "2022-07-19 21:46:10.754336: I tensorflow/core/common_runtime/pluggable_device/pluggable_device_factory.cc:271] Created TensorFlow device (/job:localhost/replica:0/task:0/device:GPU:0 with 0 MB memory) -> physical PluggableDevice (device: 0, name: METAL, pci bus id: <undefined>)\n"
     ]
    }
   ],
   "source": [
    "#preparing our datasets\n",
    "train_dataset = tf.data.Dataset.from_tensor_slices((\n",
    "    dict(Xtrain_enc),\n",
    "    y_train\n",
    "))\n",
    "val_dataset = tf.data.Dataset.from_tensor_slices((\n",
    "    dict(Xval_enc),\n",
    "    y_val\n",
    "))\n",
    "test_dataset = tf.data.Dataset.from_tensor_slices((\n",
    "    dict(Xtest_enc),\n",
    "    y_test\n",
    "))\n"
   ]
  },
  {
   "cell_type": "code",
   "execution_count": 28,
   "metadata": {},
   "outputs": [],
   "source": [
    "# creating BERT Model\n",
    "from tensorflow.keras.layers import Dense,Input, Embedding,LSTM,Dropout,Conv1D\n",
    "from tensorflow.keras.models import Model\n",
    "def bert_model(train_dataset,val_dataset,transformer,max_len,epochs):\n",
    "    print(\"----Building the model----\")\n",
    "    input_ids = Input(shape=(max_len,), dtype=tf.int32, name=\"input_ids\")\n",
    "    attention_mask = Input(shape=(max_len,),dtype=tf.int32,name = 'attention_mask') #attention mask\n",
    "    sequence_output = transformer(input_ids,attention_mask)[0]\n",
    "    cls_token = sequence_output[:, 0, :]\n",
    "    x = Dense(512, activation='relu')(cls_token)\n",
    "    x = Dropout(0.1)(x)\n",
    "    y = Dense(1, activation='sigmoid')(x)\n",
    "    model = Model(inputs=[input_ids,attention_mask], outputs=y)\n",
    "    model.summary()\n",
    "    model.compile(Adam(lr=2e-5), loss='binary_crossentropy', metrics=['accuracy'])\n",
    "    r = model.fit(train_dataset.batch(32),batch_size = 32,\n",
    "                  validation_data = val_dataset.batch(32),epochs = epochs)\n",
    "                  #callbacks = callbacks\n",
    "    print(\"Train score:\", model.evaluate(train_dataset.batch(32)))\n",
    "    print(\"Validation score:\", model.evaluate(val_dataset.batch(32)))\n",
    "    n_epochs = len(r.history['loss'])\n",
    "    \n",
    "    return r,model,n_epochs"
   ]
  },
  {
   "cell_type": "code",
   "execution_count": 29,
   "metadata": {},
   "outputs": [
    {
     "name": "stderr",
     "output_type": "stream",
     "text": [
      "Some layers from the model checkpoint at distilbert-base-uncased were not used when initializing TFDistilBertModel: ['vocab_layer_norm', 'vocab_transform', 'activation_13', 'vocab_projector']\n",
      "- This IS expected if you are initializing TFDistilBertModel from the checkpoint of a model trained on another task or with another architecture (e.g. initializing a BertForSequenceClassification model from a BertForPreTraining model).\n",
      "- This IS NOT expected if you are initializing TFDistilBertModel from the checkpoint of a model that you expect to be exactly identical (initializing a BertForSequenceClassification model from a BertForSequenceClassification model).\n",
      "All the layers of TFDistilBertModel were initialized from the model checkpoint at distilbert-base-uncased.\n",
      "If your task is similar to the task the model of the checkpoint was trained on, you can already use TFDistilBertModel for predictions without further training.\n"
     ]
    }
   ],
   "source": [
    "transformer = transformers.TFDistilBertModel.from_pretrained('distilbert-base-uncased')"
   ]
  },
  {
   "cell_type": "code",
   "execution_count": 30,
   "metadata": {},
   "outputs": [
    {
     "name": "stdout",
     "output_type": "stream",
     "text": [
      "----Building the model----\n",
      "Model: \"model\"\n",
      "__________________________________________________________________________________________________\n",
      " Layer (type)                   Output Shape         Param #     Connected to                     \n",
      "==================================================================================================\n",
      " input_ids (InputLayer)         [(None, 299)]        0           []                               \n",
      "                                                                                                  \n",
      " attention_mask (InputLayer)    [(None, 299)]        0           []                               \n",
      "                                                                                                  \n",
      " tf_distil_bert_model (TFDistil  TFBaseModelOutput(l  66362880   ['input_ids[0][0]',              \n",
      " BertModel)                     ast_hidden_state=(N               'attention_mask[0][0]']         \n",
      "                                one, 299, 768),                                                   \n",
      "                                 hidden_states=None                                               \n",
      "                                , attentions=None)                                                \n",
      "                                                                                                  \n",
      " tf.__operators__.getitem (Slic  (None, 768)         0           ['tf_distil_bert_model[0][0]']   \n",
      " ingOpLambda)                                                                                     \n",
      "                                                                                                  \n",
      " dense (Dense)                  (None, 512)          393728      ['tf.__operators__.getitem[0][0]'\n",
      "                                                                 ]                                \n",
      "                                                                                                  \n",
      " dropout_19 (Dropout)           (None, 512)          0           ['dense[0][0]']                  \n",
      "                                                                                                  \n",
      " dense_1 (Dense)                (None, 1)            513         ['dropout_19[0][0]']             \n",
      "                                                                                                  \n",
      "==================================================================================================\n",
      "Total params: 66,757,121\n",
      "Trainable params: 66,757,121\n",
      "Non-trainable params: 0\n",
      "__________________________________________________________________________________________________\n",
      "Epoch 1/2\n"
     ]
    },
    {
     "name": "stderr",
     "output_type": "stream",
     "text": [
      "2022-07-19 21:46:20.588164: W tensorflow/core/platform/profile_utils/cpu_utils.cc:128] Failed to get CPU frequency: 0 Hz\n",
      "2022-07-19 21:46:20.593022: I tensorflow/core/grappler/optimizers/custom_graph_optimizer_registry.cc:113] Plugin optimizer for device_type GPU is enabled.\n"
     ]
    },
    {
     "name": "stdout",
     "output_type": "stream",
     "text": [
      "216/216 [==============================] - ETA: 0s - loss: 0.5119 - accuracy: 0.7671"
     ]
    },
    {
     "name": "stderr",
     "output_type": "stream",
     "text": [
      "2022-07-19 21:52:52.913050: I tensorflow/core/grappler/optimizers/custom_graph_optimizer_registry.cc:113] Plugin optimizer for device_type GPU is enabled.\n"
     ]
    },
    {
     "name": "stdout",
     "output_type": "stream",
     "text": [
      "216/216 [==============================] - 421s 2s/step - loss: 0.5119 - accuracy: 0.7671 - val_loss: 0.4868 - val_accuracy: 0.7682\n",
      "Epoch 2/2\n",
      "216/216 [==============================] - 404s 2s/step - loss: 0.3990 - accuracy: 0.8212 - val_loss: 0.4962 - val_accuracy: 0.7705\n",
      "216/216 [==============================] - 98s 452ms/step - loss: 0.3173 - accuracy: 0.8691\n",
      "Train score: [0.3173375725746155, 0.8690978288650513]\n",
      "54/54 [==============================] - 24s 449ms/step - loss: 0.4962 - accuracy: 0.7705\n",
      "Validation score: [0.49620649218559265, 0.7704822421073914]\n"
     ]
    }
   ],
   "source": [
    "epochs = 2\n",
    "max_len = max_seq_len\n",
    "r,model,n_epochs = bert_model(train_dataset,val_dataset,transformer,max_len,epochs)"
   ]
  },
  {
   "cell_type": "markdown",
   "metadata": {},
   "source": [
    "# Modelling - SVM"
   ]
  },
  {
   "cell_type": "code",
   "execution_count": 49,
   "metadata": {},
   "outputs": [],
   "source": [
    "from sklearn import svm\n",
    "from sklearn.svm import SVC\n",
    "from sklearn.model_selection import GridSearchCV\n",
    "from sklearn.model_selection import RandomizedSearchCV\n",
    "\n",
    "clf = svm.SVC()\n"
   ]
  },
  {
   "cell_type": "code",
   "execution_count": 51,
   "metadata": {},
   "outputs": [],
   "source": [
    "X_train_tfidf = tfidf.fit_transform(X_train)\n",
    "X_test_tfidf = tfidf.transform(X_test)"
   ]
  },
  {
   "cell_type": "code",
   "execution_count": 53,
   "metadata": {},
   "outputs": [],
   "source": [
    "param_grid= {'C':[0.2,0.5,1,5,10,20,100,1000],'gamma':['scale','auto'], 'kernel':['linear','poly','rbf','sigmoid']}\n",
    "\n",
    "randomized_search=RandomizedSearchCV(clf,param_grid)"
   ]
  },
  {
   "cell_type": "code",
   "execution_count": 54,
   "metadata": {},
   "outputs": [
    {
     "data": {
      "text/plain": [
       "RandomizedSearchCV(estimator=SVC(),\n",
       "                   param_distributions={'C': [0.2, 0.5, 1, 5, 10, 20, 100,\n",
       "                                              1000],\n",
       "                                        'gamma': ['scale', 'auto'],\n",
       "                                        'kernel': ['linear', 'poly', 'rbf',\n",
       "                                                   'sigmoid']})"
      ]
     },
     "execution_count": 54,
     "metadata": {},
     "output_type": "execute_result"
    }
   ],
   "source": [
    "randomized_search.fit(X_train_tfidf,y_train)"
   ]
  },
  {
   "cell_type": "code",
   "execution_count": 55,
   "metadata": {},
   "outputs": [
    {
     "data": {
      "text/plain": [
       "{'kernel': 'sigmoid', 'gamma': 'scale', 'C': 100}"
      ]
     },
     "execution_count": 55,
     "metadata": {},
     "output_type": "execute_result"
    }
   ],
   "source": [
    "randomized_search.best_params_"
   ]
  },
  {
   "cell_type": "code",
   "execution_count": 58,
   "metadata": {},
   "outputs": [],
   "source": [
    "clf_tuned=SVC(C=100, kernel='sigmoid', gamma='scale')"
   ]
  },
  {
   "cell_type": "code",
   "execution_count": 59,
   "metadata": {},
   "outputs": [
    {
     "data": {
      "text/plain": [
       "SVC(C=100, kernel='sigmoid')"
      ]
     },
     "execution_count": 59,
     "metadata": {},
     "output_type": "execute_result"
    }
   ],
   "source": [
    "clf_tuned"
   ]
  },
  {
   "cell_type": "code",
   "execution_count": 61,
   "metadata": {},
   "outputs": [
    {
     "name": "stdout",
     "output_type": "stream",
     "text": [
      "              precision    recall  f1-score   support\n",
      "\n",
      "         0.0       0.58      0.35      0.44       523\n",
      "         1.0       0.82      0.92      0.86      1628\n",
      "\n",
      "    accuracy                           0.78      2151\n",
      "   macro avg       0.70      0.64      0.65      2151\n",
      "weighted avg       0.76      0.78      0.76      2151\n",
      "\n"
     ]
    }
   ],
   "source": [
    "# train SVM on test_df\n",
    "clf_tuned.fit(X_train_tfidf, y_train)\n",
    "\n",
    "y_predicted = clf_tuned.predict(X_test_tfidf)\n",
    "\n",
    "print(classification_report(y_test, y_predicted))"
   ]
  },
  {
   "cell_type": "markdown",
   "metadata": {},
   "source": [
    "# Balancing Dataset"
   ]
  },
  {
   "cell_type": "code",
   "execution_count": 62,
   "metadata": {},
   "outputs": [],
   "source": [
    "#!conda install -c conda-forge imbalanced-learn\n",
    "from imblearn.over_sampling import RandomOverSampler\n",
    "from imblearn.under_sampling import RandomUnderSampler\n",
    "from collections import Counter"
   ]
  },
  {
   "cell_type": "code",
   "execution_count": 63,
   "metadata": {},
   "outputs": [],
   "source": [
    "# vectorize all x test data\n",
    "X_vectorized = tfidf.transform(train_df['imdb_user_review'])\n",
    "y = train_df['helpfulness_cat']"
   ]
  },
  {
   "cell_type": "code",
   "execution_count": 64,
   "metadata": {},
   "outputs": [
    {
     "name": "stdout",
     "output_type": "stream",
     "text": [
      "[(0.0, 2541), (1.0, 2541)]\n"
     ]
    }
   ],
   "source": [
    "# undersampler \n",
    "rus = RandomUnderSampler(random_state=0, replacement=True)\n",
    "X_resampled, y_resampled = rus.fit_resample(X_vectorized, y)\n",
    "\n",
    "# count the number in each class\n",
    "print(sorted(Counter(y_resampled).items()))"
   ]
  },
  {
   "cell_type": "code",
   "execution_count": 65,
   "metadata": {},
   "outputs": [],
   "source": [
    "# train and test data after undersampling\n",
    "X_train_resampled, X_test_resampled, y_train_resampled, y_test_resampled = train_test_split(X_resampled,\n",
    "                                                                                            y_resampled,\n",
    "                                                                                            test_size=0.25,\n",
    "                                                                                            random_state=0)"
   ]
  },
  {
   "cell_type": "code",
   "execution_count": 66,
   "metadata": {},
   "outputs": [
    {
     "name": "stdout",
     "output_type": "stream",
     "text": [
      "              precision    recall  f1-score   support\n",
      "\n",
      "         0.0       0.71      0.71      0.71       616\n",
      "         1.0       0.73      0.72      0.72       655\n",
      "\n",
      "    accuracy                           0.72      1271\n",
      "   macro avg       0.72      0.72      0.72      1271\n",
      "weighted avg       0.72      0.72      0.72      1271\n",
      "\n"
     ]
    }
   ],
   "source": [
    "# logistic regression\n",
    "# train logistic regression on undersampled dataset to check for potential improvement \n",
    "logreg.fit(X_train_resampled, y_train_resampled)\n",
    "\n",
    "y_predicted = logreg.predict(X_test_resampled)\n",
    "\n",
    "print(classification_report(y_test_resampled, y_predicted))"
   ]
  },
  {
   "cell_type": "code",
   "execution_count": 67,
   "metadata": {},
   "outputs": [
    {
     "name": "stdout",
     "output_type": "stream",
     "text": [
      "[(0.0, 8214), (1.0, 8214)]\n"
     ]
    }
   ],
   "source": [
    "# oversampler \n",
    "ros = RandomOverSampler(random_state=0)\n",
    "X_resampled, y_resampled = ros.fit_resample(X_vectorized, y)\n",
    "\n",
    "# count the number in each class\n",
    "print(sorted(Counter(y_resampled).items()))"
   ]
  },
  {
   "cell_type": "code",
   "execution_count": 68,
   "metadata": {},
   "outputs": [
    {
     "name": "stdout",
     "output_type": "stream",
     "text": [
      "              precision    recall  f1-score   support\n",
      "\n",
      "         0.0       0.87      0.89      0.88      2101\n",
      "         1.0       0.88      0.86      0.87      2006\n",
      "\n",
      "    accuracy                           0.88      4107\n",
      "   macro avg       0.88      0.88      0.88      4107\n",
      "weighted avg       0.88      0.88      0.88      4107\n",
      "\n"
     ]
    }
   ],
   "source": [
    "# train and test data after oversampling\n",
    "X_train_resampled, X_test_resampled, y_train_resampled, y_test_resampled = train_test_split(X_resampled,\n",
    "                                                                                            y_resampled,\n",
    "                                                                                            test_size=0.25,\n",
    "                                                                                            random_state=0)\n",
    "\n",
    "# logistic regression\n",
    "# train logistic regression on test_df\n",
    "logreg.fit(X_train_resampled, y_train_resampled)\n",
    "\n",
    "y_predicted = logreg.predict(X_test_resampled)\n",
    "\n",
    "print(classification_report(y_test_resampled, y_predicted))"
   ]
  },
  {
   "cell_type": "markdown",
   "metadata": {},
   "source": [
    "# Apply best model on test data"
   ]
  },
  {
   "cell_type": "markdown",
   "metadata": {},
   "source": [
    "# Train Logitic Regression on test_df"
   ]
  },
  {
   "cell_type": "code",
   "execution_count": 69,
   "metadata": {},
   "outputs": [
    {
     "name": "stdout",
     "output_type": "stream",
     "text": [
      "              precision    recall  f1-score   support\n",
      "\n",
      "         0.0       0.91      0.95      0.93      2101\n",
      "         1.0       0.94      0.90      0.92      2006\n",
      "\n",
      "    accuracy                           0.93      4107\n",
      "   macro avg       0.93      0.93      0.93      4107\n",
      "weighted avg       0.93      0.93      0.93      4107\n",
      "\n"
     ]
    }
   ],
   "source": [
    "final_logreg = LogisticRegression(C=10, solver='lbfgs', max_iter=1000)\n",
    "\n",
    "final_logreg.fit(X_train_resampled, y_train_resampled)\n",
    "\n",
    "y_predicted = final_logreg.predict(X_test_resampled)\n",
    "\n",
    "print(classification_report(y_test_resampled, y_predicted))"
   ]
  },
  {
   "cell_type": "code",
   "execution_count": 70,
   "metadata": {},
   "outputs": [
    {
     "data": {
      "text/html": [
       "<div>\n",
       "<style scoped>\n",
       "    .dataframe tbody tr th:only-of-type {\n",
       "        vertical-align: middle;\n",
       "    }\n",
       "\n",
       "    .dataframe tbody tr th {\n",
       "        vertical-align: top;\n",
       "    }\n",
       "\n",
       "    .dataframe thead th {\n",
       "        text-align: right;\n",
       "    }\n",
       "</style>\n",
       "<table border=\"1\" class=\"dataframe\">\n",
       "  <thead>\n",
       "    <tr style=\"text-align: right;\">\n",
       "      <th></th>\n",
       "      <th>_id</th>\n",
       "      <th>imdb_user_review</th>\n",
       "      <th>helpfulness_cat</th>\n",
       "    </tr>\n",
       "  </thead>\n",
       "  <tbody>\n",
       "    <tr>\n",
       "      <th>0</th>\n",
       "      <td>610d01fe9a63eb113d2235ac</td>\n",
       "      <td>This is basically a German takeoff on a Sherlo...</td>\n",
       "      <td>1.0</td>\n",
       "    </tr>\n",
       "    <tr>\n",
       "      <th>1</th>\n",
       "      <td>610d01fe9a63eb113d224536</td>\n",
       "      <td>In January of 1924, director Erich von Strohei...</td>\n",
       "      <td>1.0</td>\n",
       "    </tr>\n",
       "    <tr>\n",
       "      <th>2</th>\n",
       "      <td>610d01fe9a63eb113d224d14</td>\n",
       "      <td>Silent movies are not for everyone. Neither ar...</td>\n",
       "      <td>1.0</td>\n",
       "    </tr>\n",
       "    <tr>\n",
       "      <th>3</th>\n",
       "      <td>610d01fe9a63eb113d225f17</td>\n",
       "      <td>It so often happens that some films take the l...</td>\n",
       "      <td>1.0</td>\n",
       "    </tr>\n",
       "    <tr>\n",
       "      <th>4</th>\n",
       "      <td>610d01fe9a63eb113d225f1a</td>\n",
       "      <td>I saw this film for the very first time last w...</td>\n",
       "      <td>1.0</td>\n",
       "    </tr>\n",
       "  </tbody>\n",
       "</table>\n",
       "</div>"
      ],
      "text/plain": [
       "                        _id  \\\n",
       "0  610d01fe9a63eb113d2235ac   \n",
       "1  610d01fe9a63eb113d224536   \n",
       "2  610d01fe9a63eb113d224d14   \n",
       "3  610d01fe9a63eb113d225f17   \n",
       "4  610d01fe9a63eb113d225f1a   \n",
       "\n",
       "                                    imdb_user_review  helpfulness_cat  \n",
       "0  This is basically a German takeoff on a Sherlo...              1.0  \n",
       "1  In January of 1924, director Erich von Strohei...              1.0  \n",
       "2  Silent movies are not for everyone. Neither ar...              1.0  \n",
       "3  It so often happens that some films take the l...              1.0  \n",
       "4  I saw this film for the very first time last w...              1.0  "
      ]
     },
     "execution_count": 70,
     "metadata": {},
     "output_type": "execute_result"
    }
   ],
   "source": [
    "# transform test_df data\n",
    "X_test_vectorized = tfidf.transform(test_df['imdb_user_review'])\n",
    "\n",
    "# predict on test_df data\n",
    "y_pred = final_logreg.predict(X_test_vectorized)\n",
    "\n",
    "# add the scoring column to the model\n",
    "test_df['helpfulness_cat'] = y_pred\n",
    "\n",
    "test_df.head()\n"
   ]
  },
  {
   "cell_type": "code",
   "execution_count": 71,
   "metadata": {},
   "outputs": [
    {
     "data": {
      "text/plain": [
       "1.0    0.726681\n",
       "0.0    0.273319\n",
       "Name: helpfulness_cat, dtype: float64"
      ]
     },
     "execution_count": 71,
     "metadata": {},
     "output_type": "execute_result"
    }
   ],
   "source": [
    "test_df.helpfulness_cat.value_counts(normalize=True)"
   ]
  },
  {
   "cell_type": "code",
   "execution_count": 72,
   "metadata": {},
   "outputs": [],
   "source": [
    "test_df.to_csv('submit_file.csv')"
   ]
  },
  {
   "cell_type": "code",
   "execution_count": null,
   "metadata": {},
   "outputs": [],
   "source": []
  }
 ],
 "metadata": {
  "kernelspec": {
   "display_name": "Python 3.10.4 ('tf')",
   "language": "python",
   "name": "python3"
  },
  "language_info": {
   "codemirror_mode": {
    "name": "ipython",
    "version": 3
   },
   "file_extension": ".py",
   "mimetype": "text/x-python",
   "name": "python",
   "nbconvert_exporter": "python",
   "pygments_lexer": "ipython3",
   "version": "3.10.4"
  },
  "orig_nbformat": 4,
  "vscode": {
   "interpreter": {
    "hash": "5df457e084f63a29b509db9e48171ed026273c59e629725bd96f99da223a6a1f"
   }
  }
 },
 "nbformat": 4,
 "nbformat_minor": 2
}
